{
 "cells": [
  {
   "cell_type": "markdown",
   "metadata": {},
   "source": [
    "# Doyin AI Search Algorithm Implementations in Python\n",
    "    ****************************************************************************************\n",
    "    Author:    Adeyemi Adedoyin Simeon\n",
    "    Date:      23rd April, 2019 8:48 pm\n",
    "    Location:  Room A29, Abdulsalam Abubakar Hall, University of Ibadan, Nigeria\n",
    "    E-mail:    adeyemi.sa1@gmail.com\n",
    "    Version:   1.0\n",
    "    ****************************************************************************************\n",
    "    \n",
    "    *Note: Please reference the author whenever and whereever you use all/portion of this code*"
   ]
  },
  {
   "cell_type": "markdown",
   "metadata": {},
   "source": [
    "### Importing my Tree Module"
   ]
  },
  {
   "cell_type": "code",
   "execution_count": 1,
   "metadata": {},
   "outputs": [],
   "source": [
    "from DoyinModules import DoyinTree"
   ]
  },
  {
   "cell_type": "markdown",
   "metadata": {},
   "source": [
    "### Graph Search"
   ]
  },
  {
   "cell_type": "code",
   "execution_count": 2,
   "metadata": {},
   "outputs": [],
   "source": [
    "def graph_search(initialState, goalState):\n",
    "    frontier = [initialState]\n",
    "    explored = []\n",
    "    \n",
    "    while len(frontier) > 0:\n",
    "        state = frontier[0]\n",
    "        explored.append(state)\n",
    "        frontier.remove(frontier[0])\n",
    "        \n",
    "        if state.get_data() == goalState.get_data():\n",
    "            print('Success: Goal state found in Graph. \\nPath Traversed: \\t',\n",
    "                  [item.get_data() for item in explored])\n",
    "            return True\n",
    "        \n",
    "        for neighbour in state.get_neighbours():\n",
    "            if ((neighbour not in frontier) and (neighbour not in explored)):\n",
    "                frontier.append(neighbour)\n",
    "    \n",
    "    else:\n",
    "        print('Failure: Goal state not found in Graph')\n",
    "        print('Path traversed: ', [item.get_data() for item in explored])\n",
    "        return False\n",
    "    "
   ]
  },
  {
   "cell_type": "markdown",
   "metadata": {},
   "source": [
    "### Breadth-First Search (Tree)"
   ]
  },
  {
   "cell_type": "code",
   "execution_count": 3,
   "metadata": {},
   "outputs": [],
   "source": [
    "from collections import deque"
   ]
  },
  {
   "cell_type": "code",
   "execution_count": 4,
   "metadata": {},
   "outputs": [],
   "source": [
    "def breadth_first_search(initialState, goalState):\n",
    "    \"\"\"\n",
    "    Searches for goalState starting from initialState from a Tree\n",
    "    1* Uses Queue i.e. adds to the back and removes from the front\n",
    "    2* This implementation uses deque class of the collections module to mimic Queue\n",
    "    Note: A List can also be used to implement Queue, exactly like the graph_search() function above\n",
    "    \n",
    "    \"\"\"\n",
    "    \n",
    "    frontier = deque([initialState])\n",
    "    explored = []\n",
    "    iteration_counter = 0\n",
    "    \n",
    "    while len(frontier) > 0:\n",
    "        state = frontier.popleft()\n",
    "        explored.append(state)\n",
    "        \n",
    "        \n",
    "        if state.get_data() == goalState.get_data():\n",
    "            print('Success: Goal state found. \\nPath Traversed: \\t', \n",
    "                  [item.get_data() for item in explored])\n",
    "            return True\n",
    "        \n",
    "        for neighbour in state.get_neighbours():\n",
    "            if ((neighbour not in frontier) and (neighbour not in explored)):\n",
    "                frontier.append(neighbour)\n",
    "        \n",
    "        # Displaying Solution Analysis\n",
    "        iteration_counter = iteration_counter + 1\n",
    "        print('Iteration ', iteration_counter)\n",
    "        print('-'*15)\n",
    "        print('Frontier: \\t', [x.get_data() for x in frontier])\n",
    "        print('Explored: \\t', [x.get_data() for x in explored],'\\n')\n",
    "    \n",
    "    \n",
    "    else:\n",
    "        print('Failure: Goal state not found in Tree')\n",
    "        print('Path traversed: ', [item.get_data() for item in explored])\n",
    "        return False"
   ]
  },
  {
   "cell_type": "markdown",
   "metadata": {},
   "source": [
    "### Depth-First Search (Tree)"
   ]
  },
  {
   "cell_type": "code",
   "execution_count": 5,
   "metadata": {},
   "outputs": [],
   "source": [
    "def depth_first_search(initialState, goalState):\n",
    "    \"\"\"\n",
    "    Searches for goalState starting from initialState from a Tree using Depth-First Algorithm\n",
    "    1* Uses Stack i.e. adds to the top (back) and removes from the top (back)\n",
    "    2* This implementation uses deque class of the collections module to mimic Stack\n",
    "    \n",
    "    \"\"\"\n",
    "    \n",
    "    frontier = deque([initialState])\n",
    "    explored = []\n",
    "    iteration_counter = 0\n",
    "    while len(frontier) > 0:\n",
    "        state = frontier.popleft() #Removes from back\n",
    "        explored.append(state)\n",
    "        \n",
    "        \n",
    "        if state.get_data() == goalState.get_data():\n",
    "            print('Success: Goal state found. \\nPath Traversed: \\t', \n",
    "                  [item.get_data() for item in explored])\n",
    "            return True\n",
    "        \n",
    "        for pos,neighbour in enumerate(state.get_neighbours()):\n",
    "            if ((neighbour not in frontier) and (neighbour not in explored)):\n",
    "                frontier.insert(pos,neighbour) #Adds from the front\n",
    "        \n",
    "        # Displaying Solution Analysis\n",
    "        iteration_counter = iteration_counter + 1\n",
    "        print('Iteration ', iteration_counter)\n",
    "        print('-'*15)\n",
    "        print('Frontier: \\t', [x.get_data() for x in frontier])\n",
    "        print('Explored: \\t', [x.get_data() for x in explored],'\\n')\n",
    "    \n",
    "    else:\n",
    "        print('Failure: Goal state not found in Tree')\n",
    "        print('Path traversed: ', [item.get_data() for item in explored])\n",
    "        return False"
   ]
  },
  {
   "cell_type": "code",
   "execution_count": null,
   "metadata": {},
   "outputs": [],
   "source": []
  },
  {
   "cell_type": "markdown",
   "metadata": {},
   "source": [
    "## Testing the Implementations"
   ]
  },
  {
   "cell_type": "code",
   "execution_count": 6,
   "metadata": {},
   "outputs": [],
   "source": [
    "a = DoyinTree('A')\n",
    "b = DoyinTree('B')\n",
    "c = DoyinTree('C')\n",
    "d = DoyinTree('D')\n",
    "e = DoyinTree('E')\n",
    "f = DoyinTree('F')\n",
    "g = DoyinTree('G')\n",
    "h = DoyinTree('H')\n",
    "i = DoyinTree('I')\n",
    "j = DoyinTree('J')\n",
    "k = DoyinTree('K')"
   ]
  },
  {
   "cell_type": "code",
   "execution_count": 7,
   "metadata": {},
   "outputs": [],
   "source": [
    "a.add_children([b,c,d])\n",
    "b.add_children([e,f])\n",
    "c.add_children([g,h,i])\n",
    "d.add_child(j)"
   ]
  },
  {
   "cell_type": "code",
   "execution_count": 8,
   "metadata": {},
   "outputs": [
    {
     "name": "stdout",
     "output_type": "stream",
     "text": [
      "Siblings:  ['G', 'H']\n"
     ]
    },
    {
     "data": {
      "text/plain": [
       "[<DoyinModules.DoyinTree at 0x24f7f73ab70>,\n",
       " <DoyinModules.DoyinTree at 0x24f7f73a7f0>]"
      ]
     },
     "execution_count": 8,
     "metadata": {},
     "output_type": "execute_result"
    }
   ],
   "source": [
    "i.get_siblings()"
   ]
  },
  {
   "cell_type": "code",
   "execution_count": 16,
   "metadata": {},
   "outputs": [
    {
     "name": "stdout",
     "output_type": "stream",
     "text": [
      "D\n"
     ]
    },
    {
     "data": {
      "text/plain": [
       "<DoyinModules.DoyinTree at 0x24f7f73ab00>"
      ]
     },
     "execution_count": 16,
     "metadata": {},
     "output_type": "execute_result"
    }
   ],
   "source": [
    "j.get_parent()"
   ]
  },
  {
   "cell_type": "code",
   "execution_count": 15,
   "metadata": {},
   "outputs": [
    {
     "data": {
      "text/plain": [
       "['D', 'A']"
      ]
     },
     "execution_count": 15,
     "metadata": {},
     "output_type": "execute_result"
    }
   ],
   "source": [
    "j.get_parents()"
   ]
  },
  {
   "cell_type": "code",
   "execution_count": 11,
   "metadata": {},
   "outputs": [
    {
     "name": "stdout",
     "output_type": "stream",
     "text": [
      "Success: Goal state found in Graph. \n",
      "Path Traversed: \t ['A', 'B', 'C', 'D', 'E', 'F', 'G']\n"
     ]
    },
    {
     "data": {
      "text/plain": [
       "True"
      ]
     },
     "execution_count": 11,
     "metadata": {},
     "output_type": "execute_result"
    }
   ],
   "source": [
    "graph_search(a,g)"
   ]
  },
  {
   "cell_type": "code",
   "execution_count": 12,
   "metadata": {},
   "outputs": [
    {
     "name": "stdout",
     "output_type": "stream",
     "text": [
      "Iteration  1\n",
      "---------------\n",
      "Frontier: \t ['B', 'C', 'D']\n",
      "Explored: \t ['A'] \n",
      "\n",
      "Iteration  2\n",
      "---------------\n",
      "Frontier: \t ['C', 'D', 'E', 'F']\n",
      "Explored: \t ['A', 'B'] \n",
      "\n",
      "Iteration  3\n",
      "---------------\n",
      "Frontier: \t ['D', 'E', 'F', 'G', 'H', 'I']\n",
      "Explored: \t ['A', 'B', 'C'] \n",
      "\n",
      "Iteration  4\n",
      "---------------\n",
      "Frontier: \t ['E', 'F', 'G', 'H', 'I', 'J']\n",
      "Explored: \t ['A', 'B', 'C', 'D'] \n",
      "\n",
      "Iteration  5\n",
      "---------------\n",
      "Frontier: \t ['F', 'G', 'H', 'I', 'J']\n",
      "Explored: \t ['A', 'B', 'C', 'D', 'E'] \n",
      "\n",
      "Iteration  6\n",
      "---------------\n",
      "Frontier: \t ['G', 'H', 'I', 'J']\n",
      "Explored: \t ['A', 'B', 'C', 'D', 'E', 'F'] \n",
      "\n",
      "Iteration  7\n",
      "---------------\n",
      "Frontier: \t ['H', 'I', 'J']\n",
      "Explored: \t ['A', 'B', 'C', 'D', 'E', 'F', 'G'] \n",
      "\n",
      "Iteration  8\n",
      "---------------\n",
      "Frontier: \t ['I', 'J']\n",
      "Explored: \t ['A', 'B', 'C', 'D', 'E', 'F', 'G', 'H'] \n",
      "\n",
      "Success: Goal state found. \n",
      "Path Traversed: \t ['A', 'B', 'C', 'D', 'E', 'F', 'G', 'H', 'I']\n"
     ]
    },
    {
     "data": {
      "text/plain": [
       "True"
      ]
     },
     "execution_count": 12,
     "metadata": {},
     "output_type": "execute_result"
    }
   ],
   "source": [
    "breadth_first_search(a,i)"
   ]
  },
  {
   "cell_type": "code",
   "execution_count": 13,
   "metadata": {},
   "outputs": [
    {
     "name": "stdout",
     "output_type": "stream",
     "text": [
      "Iteration  1\n",
      "---------------\n",
      "Frontier: \t ['B', 'C', 'D']\n",
      "Explored: \t ['A'] \n",
      "\n",
      "Iteration  2\n",
      "---------------\n",
      "Frontier: \t ['C', 'D', 'E', 'F']\n",
      "Explored: \t ['A', 'B'] \n",
      "\n",
      "Iteration  3\n",
      "---------------\n",
      "Frontier: \t ['D', 'E', 'F', 'G', 'H', 'I']\n",
      "Explored: \t ['A', 'B', 'C'] \n",
      "\n",
      "Iteration  4\n",
      "---------------\n",
      "Frontier: \t ['E', 'F', 'G', 'H', 'I', 'J']\n",
      "Explored: \t ['A', 'B', 'C', 'D'] \n",
      "\n",
      "Iteration  5\n",
      "---------------\n",
      "Frontier: \t ['F', 'G', 'H', 'I', 'J']\n",
      "Explored: \t ['A', 'B', 'C', 'D', 'E'] \n",
      "\n",
      "Iteration  6\n",
      "---------------\n",
      "Frontier: \t ['G', 'H', 'I', 'J']\n",
      "Explored: \t ['A', 'B', 'C', 'D', 'E', 'F'] \n",
      "\n",
      "Iteration  7\n",
      "---------------\n",
      "Frontier: \t ['H', 'I', 'J']\n",
      "Explored: \t ['A', 'B', 'C', 'D', 'E', 'F', 'G'] \n",
      "\n",
      "Iteration  8\n",
      "---------------\n",
      "Frontier: \t ['I', 'J']\n",
      "Explored: \t ['A', 'B', 'C', 'D', 'E', 'F', 'G', 'H'] \n",
      "\n",
      "Iteration  9\n",
      "---------------\n",
      "Frontier: \t ['J']\n",
      "Explored: \t ['A', 'B', 'C', 'D', 'E', 'F', 'G', 'H', 'I'] \n",
      "\n",
      "Iteration  10\n",
      "---------------\n",
      "Frontier: \t []\n",
      "Explored: \t ['A', 'B', 'C', 'D', 'E', 'F', 'G', 'H', 'I', 'J'] \n",
      "\n",
      "Failure: Goal state not found in Tree\n",
      "Path traversed:  ['A', 'B', 'C', 'D', 'E', 'F', 'G', 'H', 'I', 'J']\n"
     ]
    },
    {
     "data": {
      "text/plain": [
       "False"
      ]
     },
     "execution_count": 13,
     "metadata": {},
     "output_type": "execute_result"
    }
   ],
   "source": [
    "breadth_first_search(a,k)"
   ]
  },
  {
   "cell_type": "code",
   "execution_count": 14,
   "metadata": {},
   "outputs": [
    {
     "name": "stdout",
     "output_type": "stream",
     "text": [
      "Iteration  1\n",
      "---------------\n",
      "Frontier: \t ['B', 'C', 'D']\n",
      "Explored: \t ['A'] \n",
      "\n",
      "Iteration  2\n",
      "---------------\n",
      "Frontier: \t ['E', 'F', 'C', 'D']\n",
      "Explored: \t ['A', 'B'] \n",
      "\n",
      "Iteration  3\n",
      "---------------\n",
      "Frontier: \t ['F', 'C', 'D']\n",
      "Explored: \t ['A', 'B', 'E'] \n",
      "\n",
      "Iteration  4\n",
      "---------------\n",
      "Frontier: \t ['C', 'D']\n",
      "Explored: \t ['A', 'B', 'E', 'F'] \n",
      "\n",
      "Iteration  5\n",
      "---------------\n",
      "Frontier: \t ['G', 'H', 'I', 'D']\n",
      "Explored: \t ['A', 'B', 'E', 'F', 'C'] \n",
      "\n",
      "Iteration  6\n",
      "---------------\n",
      "Frontier: \t ['H', 'I', 'D']\n",
      "Explored: \t ['A', 'B', 'E', 'F', 'C', 'G'] \n",
      "\n",
      "Iteration  7\n",
      "---------------\n",
      "Frontier: \t ['I', 'D']\n",
      "Explored: \t ['A', 'B', 'E', 'F', 'C', 'G', 'H'] \n",
      "\n",
      "Success: Goal state found. \n",
      "Path Traversed: \t ['A', 'B', 'E', 'F', 'C', 'G', 'H', 'I']\n"
     ]
    },
    {
     "data": {
      "text/plain": [
       "True"
      ]
     },
     "execution_count": 14,
     "metadata": {},
     "output_type": "execute_result"
    }
   ],
   "source": [
    "depth_first_search(a,i)"
   ]
  },
  {
   "cell_type": "code",
   "execution_count": null,
   "metadata": {},
   "outputs": [],
   "source": []
  }
 ],
 "metadata": {
  "kernelspec": {
   "display_name": "Python 3",
   "language": "python",
   "name": "python3"
  },
  "language_info": {
   "codemirror_mode": {
    "name": "ipython",
    "version": 3
   },
   "file_extension": ".py",
   "mimetype": "text/x-python",
   "name": "python",
   "nbconvert_exporter": "python",
   "pygments_lexer": "ipython3",
   "version": "3.6.5"
  }
 },
 "nbformat": 4,
 "nbformat_minor": 2
}
